{
 "cells": [
  {
   "cell_type": "code",
   "execution_count": 3,
   "id": "82835b67-6a4e-44db-a75d-0936c2150b54",
   "metadata": {},
   "outputs": [
    {
     "name": "stdout",
     "output_type": "stream",
     "text": [
      "[-2.5, -1.5, -0.5, 0.5, 1.5, 2.5]\n"
     ]
    }
   ],
   "source": [
    "def calculate_m_values(s_value):\n",
    "    m_values=[]\n",
    "    m=-s_value\n",
    "    while m<=s_value:\n",
    "        m_values.append(m)\n",
    "        m+=1\n",
    "    return m_values\n",
    "\n",
    "l=calculate_m_values(5/2)\n",
    "print(l)"
   ]
  },
  {
   "cell_type": "code",
   "execution_count": 6,
   "id": "97b1e469-7c83-4d52-9076-0f8ba5f0fae2",
   "metadata": {},
   "outputs": [
    {
     "name": "stdout",
     "output_type": "stream",
     "text": [
      "m1=-0.5, m2=-0.5, SxSy element: -0.25*I*h**2\n",
      "m1=-0.5, m2=0.5, SxSy element: 0\n",
      "m1=0.5, m2=-0.5, SxSy element: 0\n",
      "m1=0.5, m2=0.5, SxSy element: 0.25*I*h**2\n",
      "Matrix([[-0.25*I*h**2, 0], [0, 0.25*I*h**2]])\n"
     ]
    },
    {
     "data": {
      "text/latex": [
       "$\\displaystyle \\left[\\begin{matrix}- 0.25 i h^{2} & 0\\\\0 & 0.25 i h^{2}\\end{matrix}\\right]$"
      ],
      "text/plain": [
       "Matrix([\n",
       "[-0.25*I*h**2,           0],\n",
       "[           0, 0.25*I*h**2]])"
      ]
     },
     "execution_count": 6,
     "metadata": {},
     "output_type": "execute_result"
    }
   ],
   "source": [
    "#Calculate combination of operators\n",
    "import sympy as sp\n",
    "from sympy.physics.quantum import qapply, OrthogonalKet, OrthogonalBra\n",
    "from sympy.matrices import Matrix\n",
    "\n",
    "s, h = sp.symbols('s, h')\n",
    "\n",
    "def S_plusK(s, m):\n",
    "    return h * sp.sqrt(s * (s + 1) - m * (m + 1))*(OrthogonalKet(m+1))\n",
    "\n",
    "def S_minusK(s, m):\n",
    "    return h * sp.sqrt(s * (s + 1) - m * (m - 1))*(OrthogonalKet(m-1))\n",
    "\n",
    "# Define the spin operators S_x, S_y, S_z, S_+, s_-\n",
    "def S_xK(s, m):\n",
    "    return (S_plusK(s, m) + S_minusK(s, m)) / 2\n",
    "\n",
    "def S_yK(s, m):\n",
    "    return (S_plusK(s, m) - S_minusK(s, m)) / (2 * sp.I)\n",
    "\n",
    "def S_zK(s, m):\n",
    "    return m * h*(OrthogonalKet(m))\n",
    "\n",
    "def S_plusB(s, m):\n",
    "    return h * sp.sqrt(s * (s + 1) - m * (m + 1))*(OrthogonalBra(m+1))\n",
    "\n",
    "def S_minusB(s, m):\n",
    "    return h * sp.sqrt(s * (s + 1) - m * (m - 1))*(OrthogonalBra(m-1))\n",
    "\n",
    "def S_xB(s, m):\n",
    "    return (S_plusB(s, m) + S_minusB(s, m)) / 2\n",
    "\n",
    "def S_yB(s, m):\n",
    "    return (S_plusB(s, m) - S_minusB(s, m)) / (2 * sp.I)\n",
    "\n",
    "def S_zB(s, m):\n",
    "    return m * h*(OrthogonalBra(m))\n",
    "\n",
    "def calculate_matrix_elements(s_value):\n",
    "    matrix_elements = []\n",
    "    matrix_final=[]\n",
    "    m1=calculate_m_values(s_value)\n",
    "    m2=calculate_m_values(s_value)\n",
    "    for i in m1:\n",
    "     for j in m2:\n",
    "            SxSy_element = qapply(S_xB(s_value, i) * S_yK(s_value,j))\n",
    "            matrix_elements.append((i, j, SxSy_element))\n",
    "            matrix_final.append(SxSy_element)\n",
    "    return matrix_elements, Matrix(int(2*s_value+1),int(2*s_value+1),matrix_final)\n",
    "\n",
    "s_value = 1/2\n",
    "\n",
    "matrix_elements, matrix_final = calculate_matrix_elements(s_value)\n",
    "\n",
    "# Print the symbolic matrix elements\n",
    "for element in matrix_elements:\n",
    "        print(f\"m1={element[0]}, m2={element[1]}, SxSy element: {element[2]}\")\n",
    "\n",
    "print(matrix_final);matrix_final"
   ]
  },
  {
   "cell_type": "code",
   "execution_count": 7,
   "id": "a5a595db-9de8-4602-8faf-07403c66f26f",
   "metadata": {},
   "outputs": [
    {
     "name": "stdout",
     "output_type": "stream",
     "text": [
      "Matrix([[-h, 0, 0], [0, 0, 0], [0, 0, h]])\n"
     ]
    },
    {
     "data": {
      "text/latex": [
       "$\\displaystyle \\left[\\begin{matrix}- h & 0 & 0\\\\0 & 0 & 0\\\\0 & 0 & h\\end{matrix}\\right]$"
      ],
      "text/plain": [
       "Matrix([\n",
       "[-h, 0, 0],\n",
       "[ 0, 0, 0],\n",
       "[ 0, 0, h]])"
      ]
     },
     "execution_count": 7,
     "metadata": {},
     "output_type": "execute_result"
    }
   ],
   "source": [
    "#Calculate matrix of single operator\n",
    "\n",
    "def calculate_matrix_elementsS(s_value,D):\n",
    "    matrix_elements = []\n",
    "    matrixS_final=[]\n",
    "    m1=calculate_m_values(s_value)\n",
    "    m2=calculate_m_values(s_value)\n",
    "    MD=2*s_value+1\n",
    "    functions = {'x': S_xK, 'y': S_yK, 'z': S_zK}\n",
    "    if D.lower() in functions:\n",
    "     for i in m1:\n",
    "      for j in m2:\n",
    "            Sy_element = qapply(OrthogonalBra(i) * functions[D.lower()](s_value,j))\n",
    "            matrix_elements.append((i, j, Sy_element))\n",
    "            matrixS_final.append(Sy_element)\n",
    "     return Matrix(int(MD),int(MD),matrixS_final)\n",
    "    else:\n",
    "     return \"Invalid input! Only 'x', 'y', and 'z' are allowed.\",\"Start again\"\n",
    "\n",
    "s_value = 1\n",
    "\n",
    "matrixS_final = calculate_matrix_elementsS(s_value,'z')\n",
    "\n",
    "# Print the symbolic matrix elements\n",
    "print(matrixS_final);matrixS_final"
   ]
  },
  {
   "cell_type": "code",
   "execution_count": 9,
   "id": "e31ccf21-6737-474f-b120-9fb3ede5b956",
   "metadata": {},
   "outputs": [
    {
     "name": "stdout",
     "output_type": "stream",
     "text": [
      "Matrix([[-11275.8100000000, -10.4347000000000, 6.75450900000000], [-10.6347000000000, -11294.0015810000, -7.59953900000000], [6.75450900000000, -7.59953900000000, -11283.4519200000]])\n",
      "Matrix([[-11275.81*X**2 - 21.0694*X*Y + 13.509018*X*Z - 11294.001581*Y**2 - 15.199078*Y*Z - 11283.45192*Z**2]])\n"
     ]
    },
    {
     "data": {
      "text/latex": [
       "$\\displaystyle \\left[\\begin{matrix}- 11275.81 X^{2} - 21.0694 X Y + 13.509018 X Z - 11294.001581 Y^{2} - 15.199078 Y Z - 11283.45192 Z^{2}\\end{matrix}\\right]$"
      ],
      "text/plain": [
       "Matrix([[-11275.81*X**2 - 21.0694*X*Y + 13.509018*X*Z - 11294.001581*Y**2 - 15.199078*Y*Z - 11283.45192*Z**2]])"
      ]
     },
     "execution_count": 9,
     "metadata": {},
     "output_type": "execute_result"
    }
   ],
   "source": [
    "M=sp.Matrix([[-11275.81,-10.434700,6.754509],[-10.634700,-11294.001581,-7.599539],[6.754509,-7.599539,-11283.45192]])\n",
    "print(M);M\n",
    "n=sp.symbols('n')\n",
    "X = sp.MatrixSymbol('X', n, n)\n",
    "Y = sp.MatrixSymbol('Y', n, n)\n",
    "Z = sp.MatrixSymbol('Z', n, n)\n",
    "Angr=sp.BlockMatrix([X,Y,Z])\n",
    "Angc=sp.BlockMatrix([[X],[Y],[Z]])\n",
    "Final_Matrix=sp.block_collapse(Angr*M*Angc)\n",
    "Final = sp.simplify(str(Final_Matrix))\n",
    "print(Final);Final"
   ]
  },
  {
   "cell_type": "code",
   "execution_count": 10,
   "id": "a2edef8f-3902-4b8f-8942-3a0c7a54986f",
   "metadata": {},
   "outputs": [
    {
     "name": "stdout",
     "output_type": "stream",
     "text": [
      "Matrix([[-11275.81*X**2 - 21.0694*X*Y + 13.509018*X*Z - 11294.001581*Y**2 - 15.199078*Y*Z - 11283.45192*Z**2]])\n",
      "Matrix([[-h**2/2, sqrt(2)*h**2*(1 - I)/2, h**2*(1 + 4*I)/2], [sqrt(2)*h**2*(1 + I)/2, h**2, sqrt(2)*h**2*(-1 + I)/2], [h**2*(1 - 4*I)/2, -sqrt(2)*h**2*(1 + I)/2, -h**2/2]])\n"
     ]
    },
    {
     "data": {
      "text/latex": [
       "$\\displaystyle \\left[\\begin{matrix}- \\frac{h^{2}}{2} & \\frac{\\sqrt{2} h^{2} \\cdot \\left(1 - i\\right)}{2} & \\frac{h^{2} \\cdot \\left(1 + 4 i\\right)}{2}\\\\\\frac{\\sqrt{2} h^{2} \\cdot \\left(1 + i\\right)}{2} & h^{2} & \\frac{\\sqrt{2} h^{2} \\left(-1 + i\\right)}{2}\\\\\\frac{h^{2} \\cdot \\left(1 - 4 i\\right)}{2} & - \\frac{\\sqrt{2} h^{2} \\cdot \\left(1 + i\\right)}{2} & - \\frac{h^{2}}{2}\\end{matrix}\\right]$"
      ],
      "text/plain": [
       "Matrix([\n",
       "[               -h**2/2,  sqrt(2)*h**2*(1 - I)/2,        h**2*(1 + 4*I)/2],\n",
       "[sqrt(2)*h**2*(1 + I)/2,                    h**2, sqrt(2)*h**2*(-1 + I)/2],\n",
       "[      h**2*(1 - 4*I)/2, -sqrt(2)*h**2*(1 + I)/2,                 -h**2/2]])"
      ]
     },
     "execution_count": 10,
     "metadata": {},
     "output_type": "execute_result"
    }
   ],
   "source": [
    "X=calculate_matrix_elementsS(1,'x')\n",
    "Y=calculate_matrix_elementsS(1,'y')\n",
    "Z=calculate_matrix_elementsS(1,'z')\n",
    "\n",
    "print(Final)\n",
    "H=sp.simplify(X*(X+2*Y-Z)+Y*(2*X+Z)-Z*(X-Y+Z))\n",
    "print(H);H\n"
   ]
  }
 ],
 "metadata": {
  "kernelspec": {
   "display_name": "Python 3 (ipykernel)",
   "language": "python",
   "name": "python3"
  },
  "language_info": {
   "codemirror_mode": {
    "name": "ipython",
    "version": 3
   },
   "file_extension": ".py",
   "mimetype": "text/x-python",
   "name": "python",
   "nbconvert_exporter": "python",
   "pygments_lexer": "ipython3",
   "version": "3.11.7"
  }
 },
 "nbformat": 4,
 "nbformat_minor": 5
}
